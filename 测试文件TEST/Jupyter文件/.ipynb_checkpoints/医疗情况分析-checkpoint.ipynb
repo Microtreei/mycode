{
 "cells": [
  {
   "cell_type": "code",
   "execution_count": 19,
   "id": "1c450f0c",
   "metadata": {},
   "outputs": [],
   "source": [
    "import pandas as pd\n",
    "import seaborn as sns\n",
    "import matplotlib as plt"
   ]
  },
  {
   "cell_type": "code",
   "execution_count": 4,
   "id": "b9ac5c19",
   "metadata": {},
   "outputs": [],
   "source": [
    "data = pd.read_excel(r'G:\\数据大全（第三版）\\全球统计数据（医疗篇）\\山东医院分类17年更新.xls')"
   ]
  },
  {
   "cell_type": "code",
   "execution_count": 5,
   "id": "ca7dcc91",
   "metadata": {},
   "outputs": [
    {
     "data": {
      "text/html": [
       "<div>\n",
       "<style scoped>\n",
       "    .dataframe tbody tr th:only-of-type {\n",
       "        vertical-align: middle;\n",
       "    }\n",
       "\n",
       "    .dataframe tbody tr th {\n",
       "        vertical-align: top;\n",
       "    }\n",
       "\n",
       "    .dataframe thead th {\n",
       "        text-align: right;\n",
       "    }\n",
       "</style>\n",
       "<table border=\"1\" class=\"dataframe\">\n",
       "  <thead>\n",
       "    <tr style=\"text-align: right;\">\n",
       "      <th></th>\n",
       "      <th>医院名称</th>\n",
       "      <th>地址</th>\n",
       "      <th>邮政编码</th>\n",
       "      <th>电话</th>\n",
       "      <th>院长</th>\n",
       "      <th>床位数</th>\n",
       "      <th>日门诊量</th>\n",
       "      <th>等级</th>\n",
       "      <th>特色专科</th>\n",
       "      <th>药房主任</th>\n",
       "      <th>省市</th>\n",
       "    </tr>\n",
       "  </thead>\n",
       "  <tbody>\n",
       "    <tr>\n",
       "      <th>0</th>\n",
       "      <td>山东省口腔医院</td>\n",
       "      <td>济南市文化西路44-1号</td>\n",
       "      <td>NaN</td>\n",
       "      <td>88382608</td>\n",
       "      <td>徐欣</td>\n",
       "      <td>50.0</td>\n",
       "      <td>NaN</td>\n",
       "      <td>NaN</td>\n",
       "      <td>NaN</td>\n",
       "      <td>NaN</td>\n",
       "      <td>NaN</td>\n",
       "    </tr>\n",
       "    <tr>\n",
       "      <th>1</th>\n",
       "      <td>山东大学齐鲁医院</td>\n",
       "      <td>历下区文化西路107号</td>\n",
       "      <td>250012</td>\n",
       "      <td>0531-6921941(总机)、6927544</td>\n",
       "      <td>魏奉才</td>\n",
       "      <td>1382.0</td>\n",
       "      <td>2760.0</td>\n",
       "      <td>三甲</td>\n",
       "      <td>神经内科、妇产科、胆囊癌、激光近视治疗、呼吸内科、消化内科、心血管内科、血液内科、泌尿内科、...</td>\n",
       "      <td>韩文修</td>\n",
       "      <td>山东省</td>\n",
       "    </tr>\n",
       "    <tr>\n",
       "      <th>2</th>\n",
       "      <td>山东大学第二附属医院</td>\n",
       "      <td>天桥区北园大街247号</td>\n",
       "      <td>250033</td>\n",
       "      <td>0531-8962544</td>\n",
       "      <td>赵院长</td>\n",
       "      <td>186.0</td>\n",
       "      <td>143.0</td>\n",
       "      <td>NaN</td>\n",
       "      <td>NaN</td>\n",
       "      <td>NaN</td>\n",
       "      <td>山东省</td>\n",
       "    </tr>\n",
       "    <tr>\n",
       "      <th>3</th>\n",
       "      <td>山东大学附属口腔医院</td>\n",
       "      <td>济南市历下区文化西路44-1号</td>\n",
       "      <td>250012</td>\n",
       "      <td>0531-2950194、8382056</td>\n",
       "      <td>杨丕山</td>\n",
       "      <td>40.0</td>\n",
       "      <td>425.0</td>\n",
       "      <td>NaN</td>\n",
       "      <td>牙周病、各类牙体病、面神经抽搐、先天性唇腭裂、整形手术、种植牙技术、三叉神经痛、头颈部肿瘤、...</td>\n",
       "      <td>NaN</td>\n",
       "      <td>山东省</td>\n",
       "    </tr>\n",
       "    <tr>\n",
       "      <th>4</th>\n",
       "      <td>山东中医药大学附属医院山东省中医院</td>\n",
       "      <td>济南市文化西路42号</td>\n",
       "      <td>250011</td>\n",
       "      <td>0531-2950414</td>\n",
       "      <td>李长华</td>\n",
       "      <td>800.0</td>\n",
       "      <td>1610.0</td>\n",
       "      <td>三甲</td>\n",
       "      <td>周围血管科、肛肠科、骨科、脑血管病、内分泌科、血液肿瘤病、肝病、类风湿病、风湿免疫病、乳腺病</td>\n",
       "      <td>NaN</td>\n",
       "      <td>山东省</td>\n",
       "    </tr>\n",
       "  </tbody>\n",
       "</table>\n",
       "</div>"
      ],
      "text/plain": [
       "                 医院名称                地址    邮政编码                         电话  \\\n",
       "0             山东省口腔医院      济南市文化西路44-1号     NaN                   88382608   \n",
       "1           山东大学齐鲁医院       历下区文化西路107号   250012  0531-6921941(总机)、6927544    \n",
       "2         山东大学第二附属医院       天桥区北园大街247号   250033              0531-8962544    \n",
       "3         山东大学附属口腔医院   济南市历下区文化西路44-1号   250012      0531-2950194、8382056    \n",
       "4  山东中医药大学附属医院山东省中医院        济南市文化西路42号   250011              0531-2950414    \n",
       "\n",
       "     院长     床位数    日门诊量   等级  \\\n",
       "0    徐欣    50.0     NaN  NaN   \n",
       "1  魏奉才   1382.0  2760.0  三甲    \n",
       "2  赵院长    186.0   143.0  NaN   \n",
       "3  杨丕山     40.0   425.0  NaN   \n",
       "4  李长华    800.0  1610.0  三甲    \n",
       "\n",
       "                                                特色专科  药房主任    省市  \n",
       "0                                                NaN   NaN   NaN  \n",
       "1  神经内科、妇产科、胆囊癌、激光近视治疗、呼吸内科、消化内科、心血管内科、血液内科、泌尿内科、...  韩文修   山东省   \n",
       "2                                                NaN   NaN  山东省   \n",
       "3  牙周病、各类牙体病、面神经抽搐、先天性唇腭裂、整形手术、种植牙技术、三叉神经痛、头颈部肿瘤、...   NaN  山东省   \n",
       "4    周围血管科、肛肠科、骨科、脑血管病、内分泌科、血液肿瘤病、肝病、类风湿病、风湿免疫病、乳腺病    NaN  山东省   "
      ]
     },
     "execution_count": 5,
     "metadata": {},
     "output_type": "execute_result"
    }
   ],
   "source": [
    "data.head(5)"
   ]
  },
  {
   "cell_type": "code",
   "execution_count": 6,
   "id": "909356f9",
   "metadata": {},
   "outputs": [],
   "source": [
    "data.dropna(inplace = True)"
   ]
  },
  {
   "cell_type": "code",
   "execution_count": 7,
   "id": "ffb36b9e",
   "metadata": {},
   "outputs": [
    {
     "data": {
      "text/html": [
       "<div>\n",
       "<style scoped>\n",
       "    .dataframe tbody tr th:only-of-type {\n",
       "        vertical-align: middle;\n",
       "    }\n",
       "\n",
       "    .dataframe tbody tr th {\n",
       "        vertical-align: top;\n",
       "    }\n",
       "\n",
       "    .dataframe thead th {\n",
       "        text-align: right;\n",
       "    }\n",
       "</style>\n",
       "<table border=\"1\" class=\"dataframe\">\n",
       "  <thead>\n",
       "    <tr style=\"text-align: right;\">\n",
       "      <th></th>\n",
       "      <th>医院名称</th>\n",
       "      <th>地址</th>\n",
       "      <th>邮政编码</th>\n",
       "      <th>电话</th>\n",
       "      <th>院长</th>\n",
       "      <th>床位数</th>\n",
       "      <th>日门诊量</th>\n",
       "      <th>等级</th>\n",
       "      <th>特色专科</th>\n",
       "      <th>药房主任</th>\n",
       "      <th>省市</th>\n",
       "    </tr>\n",
       "  </thead>\n",
       "  <tbody>\n",
       "    <tr>\n",
       "      <th>1</th>\n",
       "      <td>山东大学齐鲁医院</td>\n",
       "      <td>历下区文化西路107号</td>\n",
       "      <td>250012</td>\n",
       "      <td>0531-6921941(总机)、6927544</td>\n",
       "      <td>魏奉才</td>\n",
       "      <td>1382.0</td>\n",
       "      <td>2760.0</td>\n",
       "      <td>三甲</td>\n",
       "      <td>神经内科、妇产科、胆囊癌、激光近视治疗、呼吸内科、消化内科、心血管内科、血液内科、泌尿内科、...</td>\n",
       "      <td>韩文修</td>\n",
       "      <td>山东省</td>\n",
       "    </tr>\n",
       "    <tr>\n",
       "      <th>7</th>\n",
       "      <td>山东省肿瘤医院山东省肿瘤防治研究院</td>\n",
       "      <td>槐荫区济兖路440号</td>\n",
       "      <td>250117</td>\n",
       "      <td>0531-7984361、7984777、7984079</td>\n",
       "      <td>于金明</td>\n",
       "      <td>650.0</td>\n",
       "      <td>194.0</td>\n",
       "      <td>三甲</td>\n",
       "      <td>肿瘤内科、肿瘤外科、肿瘤放疗科、妇瘤科、立体定向治疗科、恶性肿瘤、放射治疗科等</td>\n",
       "      <td>郑影新</td>\n",
       "      <td>山东省</td>\n",
       "    </tr>\n",
       "    <tr>\n",
       "      <th>8</th>\n",
       "      <td>山东省胸科医院</td>\n",
       "      <td>历下区历山路46号</td>\n",
       "      <td>250013</td>\n",
       "      <td>0531-6954258、6954310</td>\n",
       "      <td>刘院长</td>\n",
       "      <td>350.0</td>\n",
       "      <td>390.0</td>\n",
       "      <td>三乙</td>\n",
       "      <td>结核病科、呼吸内科、肿瘤科、儿科、心血管内科</td>\n",
       "      <td>于树玲</td>\n",
       "      <td>山东省</td>\n",
       "    </tr>\n",
       "    <tr>\n",
       "      <th>9</th>\n",
       "      <td>山东省精神卫生中心</td>\n",
       "      <td>济南市历下区文化东路49号</td>\n",
       "      <td>250014</td>\n",
       "      <td>0531-8932675(总机)、8933887</td>\n",
       "      <td>卢院长</td>\n",
       "      <td>600.0</td>\n",
       "      <td>150.0</td>\n",
       "      <td>三级</td>\n",
       "      <td>精神分裂症、抑郁症、戒毒戒酒、睡眠障碍、儿童心理卫生、心理咨询治疗等</td>\n",
       "      <td>王继洪</td>\n",
       "      <td>山东省</td>\n",
       "    </tr>\n",
       "    <tr>\n",
       "      <th>22</th>\n",
       "      <td>济南市妇幼保健院</td>\n",
       "      <td>济南市建国小经三路2号</td>\n",
       "      <td>250001</td>\n",
       "      <td>0531-2060983、2061761</td>\n",
       "      <td>宫露霞</td>\n",
       "      <td>320.0</td>\n",
       "      <td>690.0</td>\n",
       "      <td>三甲</td>\n",
       "      <td>产科、妇科、儿科、遗传科、生殖健康科、社区服务科、妇女保健科、围产保健、新生儿疾病筛查中心、...</td>\n",
       "      <td>徐炳英</td>\n",
       "      <td>山东省</td>\n",
       "    </tr>\n",
       "  </tbody>\n",
       "</table>\n",
       "</div>"
      ],
      "text/plain": [
       "                  医院名称              地址    邮政编码                             电话  \\\n",
       "1            山东大学齐鲁医院     历下区文化西路107号   250012      0531-6921941(总机)、6927544    \n",
       "7   山东省肿瘤医院山东省肿瘤防治研究院      槐荫区济兖路440号   250117  0531-7984361、7984777、7984079    \n",
       "8             山东省胸科医院       历下区历山路46号   250013          0531-6954258、6954310    \n",
       "9           山东省精神卫生中心   济南市历下区文化东路49号   250014      0531-8932675(总机)、8933887    \n",
       "22           济南市妇幼保健院     济南市建国小经三路2号   250001          0531-2060983、2061761    \n",
       "\n",
       "      院长     床位数    日门诊量   等级  \\\n",
       "1   魏奉才   1382.0  2760.0  三甲    \n",
       "7   于金明    650.0   194.0  三甲    \n",
       "8   刘院长    350.0   390.0  三乙    \n",
       "9   卢院长    600.0   150.0  三级    \n",
       "22  宫露霞    320.0   690.0  三甲    \n",
       "\n",
       "                                                 特色专科  药房主任    省市  \n",
       "1   神经内科、妇产科、胆囊癌、激光近视治疗、呼吸内科、消化内科、心血管内科、血液内科、泌尿内科、...  韩文修   山东省   \n",
       "7            肿瘤内科、肿瘤外科、肿瘤放疗科、妇瘤科、立体定向治疗科、恶性肿瘤、放射治疗科等   郑影新   山东省   \n",
       "8                             结核病科、呼吸内科、肿瘤科、儿科、心血管内科   于树玲   山东省   \n",
       "9                 精神分裂症、抑郁症、戒毒戒酒、睡眠障碍、儿童心理卫生、心理咨询治疗等   王继洪   山东省   \n",
       "22  产科、妇科、儿科、遗传科、生殖健康科、社区服务科、妇女保健科、围产保健、新生儿疾病筛查中心、...  徐炳英   山东省   "
      ]
     },
     "execution_count": 7,
     "metadata": {},
     "output_type": "execute_result"
    }
   ],
   "source": [
    "data.head()"
   ]
  },
  {
   "cell_type": "code",
   "execution_count": 22,
   "id": "54995d42",
   "metadata": {},
   "outputs": [
    {
     "data": {
      "text/plain": [
       "<seaborn.axisgrid.FacetGrid at 0x25225358100>"
      ]
     },
     "execution_count": 22,
     "metadata": {},
     "output_type": "execute_result"
    },
    {
     "data": {
      "image/png": "[encoded data removed]",
      "text/plain": [
       "<Figure size 427.1x360 with 1 Axes>"
      ]
     },
     "metadata": {},
     "output_type": "display_data"
    }
   ],
   "source": [
    "font = plt.rcParams['font.sans-serif']=['SimHei']\n",
    "sns.set(font=font)\n",
    "sns.relplot(x='邮政编码',y='床位数',data=data,hue='等级')"
   ]
  },
  {
   "cell_type": "code",
   "execution_count": 27,
   "id": "f1bc83ac",
   "metadata": {},
   "outputs": [
    {
     "ename": "AttributeError",
     "evalue": "module 'seaborn' has no attribute 'set_title'",
     "output_type": "error",
     "traceback": [
      "\u001b[1;31m---------------------------------------------------------------------------\u001b[0m",
      "\u001b[1;31mAttributeError\u001b[0m                            Traceback (most recent call last)",
      "\u001b[1;32m~\\AppData\\Local\\Temp/ipykernel_12040/2036540034.py\u001b[0m in \u001b[0;36m<module>\u001b[1;34m\u001b[0m\n\u001b[0;32m      3\u001b[0m \u001b[0msns\u001b[0m\u001b[1;33m.\u001b[0m\u001b[0mrelplot\u001b[0m\u001b[1;33m(\u001b[0m\u001b[0mx\u001b[0m\u001b[1;33m=\u001b[0m\u001b[1;34m'邮政编码'\u001b[0m\u001b[1;33m,\u001b[0m\u001b[0my\u001b[0m\u001b[1;33m=\u001b[0m\u001b[1;34m'床位数'\u001b[0m\u001b[1;33m,\u001b[0m\u001b[0mdata\u001b[0m\u001b[1;33m=\u001b[0m\u001b[0mdata\u001b[0m\u001b[1;33m,\u001b[0m\u001b[0mhue\u001b[0m\u001b[1;33m=\u001b[0m\u001b[1;34m'等级'\u001b[0m\u001b[1;33m)\u001b[0m\u001b[1;33m\u001b[0m\u001b[1;33m\u001b[0m\u001b[0m\n\u001b[0;32m      4\u001b[0m \u001b[0msns\u001b[0m\u001b[1;33m.\u001b[0m\u001b[0mcatplot\u001b[0m\u001b[1;33m(\u001b[0m\u001b[0mx\u001b[0m\u001b[1;33m=\u001b[0m\u001b[1;34m'邮政编码'\u001b[0m\u001b[1;33m,\u001b[0m\u001b[0my\u001b[0m\u001b[1;33m=\u001b[0m\u001b[1;34m'床位数'\u001b[0m\u001b[1;33m,\u001b[0m\u001b[0mdata\u001b[0m\u001b[1;33m=\u001b[0m\u001b[0mdata\u001b[0m\u001b[1;33m,\u001b[0m\u001b[0mhue\u001b[0m\u001b[1;33m=\u001b[0m\u001b[1;34m'等级'\u001b[0m\u001b[1;33m,\u001b[0m\u001b[0mkind\u001b[0m \u001b[1;33m=\u001b[0m \u001b[1;34m'bar'\u001b[0m\u001b[1;33m)\u001b[0m\u001b[1;33m\u001b[0m\u001b[1;33m\u001b[0m\u001b[0m\n\u001b[1;32m----> 5\u001b[1;33m \u001b[0msns\u001b[0m\u001b[1;33m.\u001b[0m\u001b[0mset_title\u001b[0m\u001b[1;33m(\u001b[0m\u001b[1;34m'医疗情况'\u001b[0m\u001b[1;33m)\u001b[0m\u001b[1;33m\u001b[0m\u001b[1;33m\u001b[0m\u001b[0m\n\u001b[0m",
      "\u001b[1;31mAttributeError\u001b[0m: module 'seaborn' has no attribute 'set_title'"
     ]
    },
    {
     "data": {
      "image/png": "[encoded data removed]",
      "text/plain": [
       "<Figure size 427.1x360 with 1 Axes>"
      ]
     },
     "metadata": {},
     "output_type": "display_data"
    },
    {
     "data": {
      "image/png": "[encoded data removed]",
      "text/plain": [
       "<Figure size 427.1x360 with 1 Axes>"
      ]
     },
     "metadata": {},
     "output_type": "display_data"
    }
   ],
   "source": [
    "font = plt.rcParams['font.sans-serif']=['SimHei']\n",
    "sns.set(font=font)\n",
    "sns.relplot(x='邮政编码',y='床位数',data=data,hue='等级')\n",
    "sns.catplot(x='邮政编码',y='床位数',data=data,hue='等级',kind = 'bar')"
   ]
  },
  {
   "cell_type": "code",
   "execution_count": null,
   "id": "6529df53",
   "metadata": {},
   "outputs": [],
   "source": []
  }
 ],
 "metadata": {
  "kernelspec": {
   "display_name": "Python 3 (ipykernel)",
   "language": "python",
   "name": "python3"
  },
  "language_info": {
   "codemirror_mode": {
    "name": "ipython",
    "version": 3
   },
   "file_extension": ".py",
   "mimetype": "text/x-python",
   "name": "python",
   "nbconvert_exporter": "python",
   "pygments_lexer": "ipython3",
   "version": "3.9.5"
  }
 },
 "nbformat": 4,
 "nbformat_minor": 5
}
